{
  "nbformat": 4,
  "nbformat_minor": 0,
  "metadata": {
    "colab": {
      "provenance": []
    },
    "kernelspec": {
      "name": "python3",
      "display_name": "Python 3"
    },
    "language_info": {
      "name": "python"
    }
  },
  "cells": [
    {
      "cell_type": "code",
      "source": [
        "# 📦 Pakete importieren\n",
        "import pandas as pd\n",
        "import matplotlib.pyplot as plt\n",
        "import seaborn as sns\n",
        "from wordcloud import WordCloud\n",
        "from sklearn.model_selection import train_test_split\n",
        "from sklearn.feature_extraction.text import TfidfVectorizer\n",
        "from sklearn.ensemble import RandomForestClassifier\n",
        "from sklearn.metrics import classification_report, confusion_matrix, accuracy_score\n",
        "\n",
        "# 🔧 Alternative Stopword-Liste (offline verwendbar)\n",
        "basic_stopwords = {\n",
        "    \"the\", \"and\", \"to\", \"of\", \"a\", \"in\", \"that\", \"is\", \"for\", \"on\", \"with\",\n",
        "    \"as\", \"was\", \"at\", \"by\", \"an\", \"be\", \"this\", \"have\", \"from\", \"or\", \"it\",\n",
        "    \"are\", \"not\", \"has\", \"but\", \"had\", \"they\", \"you\", \"he\", \"she\", \"we\", \"will\",\n",
        "    \"their\", \"his\", \"her\", \"about\", \"would\", \"there\", \"what\", \"when\", \"which\",\n",
        "    \"who\", \"were\", \"can\", \"them\", \"all\", \"been\", \"one\", \"if\"\n",
        "}\n",
        "\n",
        "# 📁 CSV-Dateien laden & labeln\n",
        "true_df = pd.read_csv(\"/content/True.csv\")\n",
        "fake_df = pd.read_csv(\"/content/Fake.csv\")\n",
        "true_df[\"label\"] = 0\n",
        "fake_df[\"label\"] = 1\n",
        "\n",
        "# 🧾 Zusammenführen\n",
        "combined_df = pd.concat([true_df, fake_df], ignore_index=True)\n",
        "\n",
        "# 📊 Explorative Datenanalyse\n",
        "combined_df[\"text_length\"] = combined_df[\"text\"].apply(lambda x: len(str(x).split()))\n",
        "\n",
        "plt.figure(figsize=(10, 6))\n",
        "sns.histplot(data=combined_df, x=\"text_length\", hue=\"label\", bins=100, kde=True, element=\"step\")\n",
        "plt.title(\"Verteilung der Textlängen in echten und gefälschten Artikeln\")\n",
        "plt.xlabel(\"Wortanzahl im Artikel\")\n",
        "plt.ylabel(\"Anzahl Artikel\")\n",
        "plt.legend(title=\"Label\", labels=[\"Real (0)\", \"Fake (1)\"])\n",
        "plt.grid(True)\n",
        "plt.tight_layout()\n",
        "plt.show()\n",
        "\n",
        "# WordCloud-Funktion\n",
        "def create_wordcloud(text, title):\n",
        "    wc = WordCloud(width=800, height=400, background_color=\"white\",\n",
        "                   stopwords=basic_stopwords, collocations=False).generate(text)\n",
        "    plt.figure(figsize=(10, 5))\n",
        "    plt.imshow(wc, interpolation=\"bilinear\")\n",
        "    plt.axis(\"off\")\n",
        "    plt.title(title, fontsize=16)\n",
        "    plt.tight_layout()\n",
        "    plt.show()\n",
        "\n",
        "# WordClouds erzeugen\n",
        "create_wordcloud(\" \".join(combined_df[combined_df[\"label\"] == 1][\"text\"].dropna()), \"WordCloud – Fake News\")\n",
        "create_wordcloud(\" \".join(combined_df[combined_df[\"label\"] == 0][\"text\"].dropna()), \"WordCloud – Real News\")\n",
        "\n",
        "# 🤖 Machine Learning: Klassifikation\n",
        "X = combined_df[\"text\"].astype(str)\n",
        "y = combined_df[\"label\"]\n",
        "\n",
        "X_train, X_test, y_train, y_test = train_test_split(X, y, test_size=0.2, random_state=42)\n",
        "\n",
        "tfidf_vectorizer = TfidfVectorizer(max_features=5000, stop_words=\"english\")\n",
        "X_train_tfidf = tfidf_vectorizer.fit_transform(X_train)\n",
        "X_test_tfidf = tfidf_vectorizer.transform(X_test)\n",
        "\n",
        "rf_model = RandomForestClassifier(n_estimators=100, random_state=42)\n",
        "rf_model.fit(X_train_tfidf, y_train)\n",
        "\n",
        "y_pred = rf_model.predict(X_test_tfidf)\n",
        "\n",
        "# 📈 Ergebnisse\n",
        "print(\"🔎 Accuracy:\", accuracy_score(y_test, y_pred))\n",
        "print(\"\\n📊 Classification Report:\\n\", classification_report(y_test, y_pred, target_names=[\"Real\", \"Fake\"]))\n",
        "print(\"🧩 Confusion Matrix:\\n\", confusion_matrix(y_test, y_pred))\n"
      ],
      "metadata": {
        "id": "eQ1_xnHs-k_2"
      },
      "execution_count": null,
      "outputs": []
    },
    {
      "cell_type": "markdown",
      "source": [
        "Test"
      ],
      "metadata": {
        "id": "c8hgmaan-laA"
      }
    }
  ]
}